{
 "cells": [
  {
   "cell_type": "markdown",
   "id": "d733893a",
   "metadata": {},
   "source": [
    "## HackerRank Python exercises"
   ]
  },
  {
   "cell_type": "markdown",
   "id": "b93803f7",
   "metadata": {},
   "source": [
    "### introduction"
   ]
  },
  {
   "cell_type": "markdown",
   "id": "0ef1d75e",
   "metadata": {},
   "source": [
    "#### say \"hello, world!!\" with python\n",
    "\n",
    "[see in HackerRank](https://www.hackerrank.com/challenges/py-hello-world/problem?isFullScreen=true)"
   ]
  },
  {
   "cell_type": "code",
   "execution_count": null,
   "id": "63ed8476",
   "metadata": {},
   "outputs": [],
   "source": [
    "print(\"Hello, World!\")"
   ]
  },
  {
   "cell_type": "markdown",
   "id": "1ed1d93b",
   "metadata": {},
   "source": [
    "#### if-else\n",
    "\n",
    "[see in HackerRank](https://www.hackerrank.com/challenges/py-if-else/problem?isFullScreen=true)"
   ]
  },
  {
   "cell_type": "code",
   "execution_count": null,
   "id": "ead95208",
   "metadata": {},
   "outputs": [],
   "source": [
    "import math\n",
    "import os\n",
    "import random\n",
    "import re\n",
    "import sys\n",
    "\n",
    "\n",
    "if __name__ == '__main__':\n",
    "    n = int(input().strip())\n",
    "    if n%2 == 1 or n in range(6,21):\n",
    "        print(\"Weird\")\n",
    "    print(\"Not Weird\")"
   ]
  },
  {
   "cell_type": "markdown",
   "id": "48c66957",
   "metadata": {},
   "source": [
    "#### arithmetic operators\n",
    "\n",
    "[see in HackerRank](https://www.hackerrank.com/challenges/python-arithmetic-operators/problem?isFullScreen=true)"
   ]
  },
  {
   "cell_type": "code",
   "execution_count": null,
   "id": "1f58d7de",
   "metadata": {},
   "outputs": [],
   "source": [
    "if __name__ == '__main__':\n",
    "    a = int(input())\n",
    "    b = int(input())\n",
    "print(a+b)\n",
    "print(a-b)\n",
    "print(a*b)"
   ]
  },
  {
   "cell_type": "markdown",
   "id": "23b8a0e1",
   "metadata": {},
   "source": [
    "#### division\n",
    "\n",
    "[see in HackerRank](https://www.hackerrank.com/challenges/python-division/problem?isFullScreen=true)"
   ]
  },
  {
   "cell_type": "code",
   "execution_count": null,
   "id": "6fd63d4f",
   "metadata": {},
   "outputs": [],
   "source": [
    "if __name__ == '__main__':\n",
    "    a = int(input())\n",
    "    b = int(input())\n",
    "print(a//b)\n",
    "print(a/b)"
   ]
  },
  {
   "cell_type": "markdown",
   "id": "74dd5549",
   "metadata": {},
   "source": [
    "#### loops\n",
    "\n",
    "[see in HackerRank](https://www.hackerrank.com/challenges/python-loops/problem?isFullScreen=true)"
   ]
  },
  {
   "cell_type": "code",
   "execution_count": null,
   "id": "6a73003a",
   "metadata": {},
   "outputs": [],
   "source": [
    "if __name__ == '__main__':\n",
    "    n = int(input())\n",
    "    for i in range(0,n):\n",
    "        print(i**2)"
   ]
  },
  {
   "cell_type": "markdown",
   "id": "11301141",
   "metadata": {},
   "source": [
    "#### print function\n",
    "\n",
    "[see in HackerRank](https://www.hackerrank.com/challenges/python-print/problem?isFullScreen=true)"
   ]
  },
  {
   "cell_type": "code",
   "execution_count": null,
   "id": "f0b50449",
   "metadata": {},
   "outputs": [],
   "source": [
    "if __name__ == '__main__':\n",
    "    print(*range(1, int(input())+1), sep='')"
   ]
  },
  {
   "cell_type": "markdown",
   "id": "484551fd",
   "metadata": {},
   "source": [
    "#### write a function\n",
    "\n",
    "[see in HackerRank](https://www.hackerrank.com/challenges/write-a-function/problem?isFullScreen=true)"
   ]
  },
  {
   "cell_type": "code",
   "execution_count": null,
   "id": "7eca5b30",
   "metadata": {},
   "outputs": [],
   "source": [
    "def is_leap(year):\n",
    "    leap = False\n",
    "    return year % 4 == 0 and (year % 400 == 0 or year % 100 != 0)\n",
    "    \n",
    "    return leap"
   ]
  },
  {
   "cell_type": "markdown",
   "id": "21bea519",
   "metadata": {},
   "source": [
    "### basic data types"
   ]
  },
  {
   "cell_type": "markdown",
   "id": "aded89b7",
   "metadata": {},
   "source": [
    "#### list comprehensions\n",
    "\n",
    "[see in HackerRank](https://www.hackerrank.com/challenges/list-comprehensions/problem)"
   ]
  },
  {
   "cell_type": "code",
   "execution_count": 3,
   "id": "ec3b1c1a",
   "metadata": {},
   "outputs": [
    {
     "name": "stdout",
     "output_type": "stream",
     "text": [
      "3\n",
      "2\n",
      "1\n",
      "3\n",
      "[[0, 0, 0], [0, 0, 1], [0, 1, 0], [0, 1, 1], [0, 2, 0], [1, 0, 0], [1, 0, 1], [1, 1, 0], [1, 2, 1], [2, 0, 0], [2, 1, 1], [2, 2, 0], [2, 2, 1], [3, 0, 1], [3, 1, 0], [3, 1, 1], [3, 2, 0], [3, 2, 1]]\n"
     ]
    }
   ],
   "source": [
    "if __name__ == '__main__':\n",
    "    x = int(input())\n",
    "    y = int(input())\n",
    "    z = int(input())\n",
    "    n = int(input())\n",
    "\n",
    "    filtered_coordinates = []\n",
    "\n",
    "    for i in range(x+1):\n",
    "        for j in range(y+1):\n",
    "            for k in range(z+1):\n",
    "                if i+j+k != n:\n",
    "                    small_list = [i,j,k]\n",
    "                    filtered_coordinates.append(small_list)\n",
    "\n",
    "    print(filtered_coordinates)"
   ]
  },
  {
   "cell_type": "markdown",
   "id": "33da40a2",
   "metadata": {},
   "source": [
    "#### lists\n",
    "\n",
    "[see in HackerRank](https://www.hackerrank.com/challenges/python-lists/problem?isFullScreen=true)"
   ]
  },
  {
   "cell_type": "code",
   "execution_count": 4,
   "id": "0434fa84",
   "metadata": {},
   "outputs": [
    {
     "name": "stdout",
     "output_type": "stream",
     "text": [
      "3\n",
      "2\n",
      "5\n",
      "8\n"
     ]
    }
   ],
   "source": [
    "if __name__ == '__main__':\n",
    "    N = int(input())\n",
    "    \n",
    "    my_list = []\n",
    "    commands_list = []\n",
    "    \n",
    "    for n in range(N):\n",
    "        command = input()\n",
    "        commands_list.append(command)\n",
    "        \n",
    "    for item in commands_list:\n",
    "        if \"append\" in item:\n",
    "            ap_list = item.split(\" \")\n",
    "            my_list.append(int(ap_list[1]))\n",
    "        elif \"insert\" in item:\n",
    "            sp_list = item.split(\" \")\n",
    "            my_list.insert(int(sp_list[1]), int(sp_list[2]))\n",
    "        elif \"remove\" in item:\n",
    "            re_list = item.split(\" \")\n",
    "            my_list.remove(int(re_list[1]))\n",
    "        elif \"sort\" in item:\n",
    "            my_list.sort()\n",
    "        elif \"pop\" in item:\n",
    "            my_list.pop()\n",
    "        elif \"reverse\" in item:\n",
    "            my_list.reverse()\n",
    "        elif \"print\" in item:\n",
    "            print(my_list)"
   ]
  },
  {
   "cell_type": "markdown",
   "id": "cd1d7916",
   "metadata": {},
   "source": [
    "#### nested lists\n",
    "\n",
    "[see in HackerRank](https://www.hackerrank.com/challenges/nested-list/problem?isFullScreen=true)"
   ]
  },
  {
   "cell_type": "code",
   "execution_count": null,
   "id": "870a50c2",
   "metadata": {},
   "outputs": [],
   "source": [
    "if __name__ == '__main__':\n",
    "    whole_list = []\n",
    "    values_list = []\n",
    "    sec_low_list = []\n",
    "    for _ in range(int(input())):\n",
    "        name = input()\n",
    "        score = float(input())\n",
    "        whole_list.append([name, score])\n",
    "\n",
    "    def sort_list(whole_list):\n",
    "        sorted_by_grade = sorted(whole_list, key = lambda x: x[1])\n",
    "        for pair in sorted_by_grade:\n",
    "            values_list.append(pair[1])\n",
    "        unique_values_list = sorted(list(set(values_list)))\n",
    "        sec_low_grade = unique_values_list[1]\n",
    "        for pair in sorted_by_grade:\n",
    "            if pair[1] == sec_low_grade:\n",
    "                sec_low_list.append(pair[0])\n",
    "        sorted_by_letter = sorted(sec_low_list, key = lambda x: x[0])\n",
    "        for i in sorted_by_letter:\n",
    "            print(i)\n",
    "\n",
    "    sort_list(whole_list)"
   ]
  },
  {
   "cell_type": "markdown",
   "id": "85176643",
   "metadata": {},
   "source": [
    "#### tuples\n",
    "\n",
    "[see in HackerRank](https://www.hackerrank.com/challenges/python-tuples/problem?isFullScreen=true)"
   ]
  },
  {
   "cell_type": "code",
   "execution_count": null,
   "id": "f6d550ba",
   "metadata": {},
   "outputs": [],
   "source": [
    "if __name__ == '__main__':\n",
    "    n = int(raw_input())\n",
    "    integer_list = map(int, raw_input().split())\n",
    "    t = tuple(integer_list)\n",
    "    print(hash(t))"
   ]
  },
  {
   "cell_type": "markdown",
   "id": "1f8ac48a",
   "metadata": {},
   "source": [
    "#### finding the percentage\n",
    "\n",
    "[see in HackerRank](https://www.hackerrank.com/challenges/finding-the-percentage/problem?isFullScreen=true)"
   ]
  },
  {
   "cell_type": "code",
   "execution_count": null,
   "id": "8f725941",
   "metadata": {},
   "outputs": [],
   "source": [
    "if __name__ == '__main__':\n",
    "    n = int(input())\n",
    "    student_marks = {}\n",
    "    for _ in range(n):\n",
    "        name, *line = input().split()\n",
    "        scores = list(map(float, line))\n",
    "        student_marks[name] = scores\n",
    "    query_name = input()\n",
    "    print('{:.2f}'.format(sum(student_marks[query_name])/3, 2))"
   ]
  },
  {
   "cell_type": "markdown",
   "id": "8581d96e",
   "metadata": {},
   "source": [
    "### strings"
   ]
  },
  {
   "cell_type": "markdown",
   "id": "242d9d5b",
   "metadata": {},
   "source": [
    "#### what is your name\n",
    "\n",
    "[see in HackerRank](https://www.hackerrank.com/challenges/whats-your-name/problem?isFullScreen=true)"
   ]
  },
  {
   "cell_type": "code",
   "execution_count": 1,
   "id": "a8d69065",
   "metadata": {},
   "outputs": [],
   "source": [
    "def print_full_name(a, b):\n",
    "    print(\"Hello {} {}! You just delved into python.\".format(first_name, last_name))"
   ]
  },
  {
   "cell_type": "markdown",
   "id": "cec669c5",
   "metadata": {},
   "source": [
    "#### split and join\n",
    "\n",
    "[see in HackerRank](https://www.hackerrank.com/challenges/python-string-split-and-join/problem?isFullScreen=true)"
   ]
  },
  {
   "cell_type": "code",
   "execution_count": null,
   "id": "48e9354c",
   "metadata": {},
   "outputs": [],
   "source": [
    "def split_and_join(line):\n",
    "    return \"-\".join(line.split(\" \"))"
   ]
  }
 ],
 "metadata": {
  "kernelspec": {
   "display_name": "Python 3 (ipykernel)",
   "language": "python",
   "name": "python3"
  },
  "language_info": {
   "codemirror_mode": {
    "name": "ipython",
    "version": 3
   },
   "file_extension": ".py",
   "mimetype": "text/x-python",
   "name": "python",
   "nbconvert_exporter": "python",
   "pygments_lexer": "ipython3",
   "version": "3.10.1"
  }
 },
 "nbformat": 4,
 "nbformat_minor": 5
}
