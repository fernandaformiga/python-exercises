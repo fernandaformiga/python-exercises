{
 "cells": [
  {
   "cell_type": "markdown",
   "id": "d733893a",
   "metadata": {},
   "source": [
    "## HackerRank Python exercises"
   ]
  },
  {
   "cell_type": "markdown",
   "id": "21bea519",
   "metadata": {},
   "source": [
    "### basic data types"
   ]
  },
  {
   "cell_type": "markdown",
   "id": "aded89b7",
   "metadata": {},
   "source": [
    "#### list comprehensions\n",
    "\n",
    "[see in HackerRank](https://www.hackerrank.com/challenges/list-comprehensions/problem)"
   ]
  },
  {
   "cell_type": "code",
   "execution_count": 3,
   "id": "ec3b1c1a",
   "metadata": {},
   "outputs": [
    {
     "name": "stdout",
     "output_type": "stream",
     "text": [
      "3\n",
      "2\n",
      "1\n",
      "3\n",
      "[[0, 0, 0], [0, 0, 1], [0, 1, 0], [0, 1, 1], [0, 2, 0], [1, 0, 0], [1, 0, 1], [1, 1, 0], [1, 2, 1], [2, 0, 0], [2, 1, 1], [2, 2, 0], [2, 2, 1], [3, 0, 1], [3, 1, 0], [3, 1, 1], [3, 2, 0], [3, 2, 1]]\n"
     ]
    }
   ],
   "source": [
    "if __name__ == '__main__':\n",
    "    x = int(input())\n",
    "    y = int(input())\n",
    "    z = int(input())\n",
    "    n = int(input())\n",
    "\n",
    "    filtered_coordinates = []\n",
    "\n",
    "    for i in range(x+1):\n",
    "        for j in range(y+1):\n",
    "            for k in range(z+1):\n",
    "                if i+j+k != n:\n",
    "                    small_list = [i,j,k]\n",
    "                    filtered_coordinates.append(small_list)\n",
    "\n",
    "    print(filtered_coordinates)"
   ]
  },
  {
   "cell_type": "markdown",
   "id": "33da40a2",
   "metadata": {},
   "source": [
    "#### lists\n",
    "\n",
    "[see in HackerRank](https://www.hackerrank.com/challenges/python-lists/problem?isFullScreen=true)"
   ]
  },
  {
   "cell_type": "code",
   "execution_count": 4,
   "id": "0434fa84",
   "metadata": {},
   "outputs": [
    {
     "name": "stdout",
     "output_type": "stream",
     "text": [
      "3\n",
      "2\n",
      "5\n",
      "8\n"
     ]
    }
   ],
   "source": [
    "if __name__ == '__main__':\n",
    "    N = int(input())\n",
    "    \n",
    "    my_list = []\n",
    "    commands_list = []\n",
    "    \n",
    "    for n in range(N):\n",
    "        command = input()\n",
    "        commands_list.append(command)\n",
    "        \n",
    "    for item in commands_list:\n",
    "        if \"append\" in item:\n",
    "            ap_list = item.split(\" \")\n",
    "            my_list.append(int(ap_list[1]))\n",
    "        elif \"insert\" in item:\n",
    "            sp_list = item.split(\" \")\n",
    "            my_list.insert(int(sp_list[1]), int(sp_list[2]))\n",
    "        elif \"remove\" in item:\n",
    "            re_list = item.split(\" \")\n",
    "            my_list.remove(int(re_list[1]))\n",
    "        elif \"sort\" in item:\n",
    "            my_list.sort()\n",
    "        elif \"pop\" in item:\n",
    "            my_list.pop()\n",
    "        elif \"reverse\" in item:\n",
    "            my_list.reverse()\n",
    "        elif \"print\" in item:\n",
    "            print(my_list)"
   ]
  },
  {
   "cell_type": "markdown",
   "id": "cd1d7916",
   "metadata": {},
   "source": [
    "#### nested lists\n",
    "\n",
    "[see in HackerRank](https://www.hackerrank.com/challenges/nested-list/problem?isFullScreen=true)"
   ]
  },
  {
   "cell_type": "code",
   "execution_count": null,
   "id": "870a50c2",
   "metadata": {},
   "outputs": [],
   "source": [
    "if __name__ == '__main__':\n",
    "    whole_list = []\n",
    "    values_list = []\n",
    "    sec_low_list = []\n",
    "    for _ in range(int(input())):\n",
    "        name = input()\n",
    "        score = float(input())\n",
    "        whole_list.append([name, score])\n",
    "\n",
    "    def sort_list(whole_list):\n",
    "        sorted_by_grade = sorted(whole_list, key = lambda x: x[1])\n",
    "        for pair in sorted_by_grade:\n",
    "            values_list.append(pair[1])\n",
    "        unique_values_list = sorted(list(set(values_list)))\n",
    "        sec_low_grade = unique_values_list[1]\n",
    "        for pair in sorted_by_grade:\n",
    "            if pair[1] == sec_low_grade:\n",
    "                sec_low_list.append(pair[0])\n",
    "        sorted_by_letter = sorted(sec_low_list, key = lambda x: x[0])\n",
    "        for i in sorted_by_letter:\n",
    "            print(i)\n",
    "\n",
    "    sort_list(whole_list)"
   ]
  }
 ],
 "metadata": {
  "kernelspec": {
   "display_name": "Python 3 (ipykernel)",
   "language": "python",
   "name": "python3"
  },
  "language_info": {
   "codemirror_mode": {
    "name": "ipython",
    "version": 3
   },
   "file_extension": ".py",
   "mimetype": "text/x-python",
   "name": "python",
   "nbconvert_exporter": "python",
   "pygments_lexer": "ipython3",
   "version": "3.10.1"
  }
 },
 "nbformat": 4,
 "nbformat_minor": 5
}
