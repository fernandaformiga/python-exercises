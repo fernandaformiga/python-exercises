{
 "cells": [
  {
   "cell_type": "markdown",
   "id": "93fa1eb7",
   "metadata": {},
   "source": [
    "## HackerRank interview preparation kit"
   ]
  },
  {
   "cell_type": "markdown",
   "id": "0ee7bca7",
   "metadata": {},
   "source": [
    "### Warming up"
   ]
  },
  {
   "cell_type": "markdown",
   "id": "e1594059",
   "metadata": {},
   "source": [
    "#### counting valleys\n",
    "\n",
    "[see in HackerRank](https://www.hackerrank.com/challenges/counting-valleys/problem)"
   ]
  },
  {
   "cell_type": "code",
   "execution_count": 2,
   "id": "d32d27ad",
   "metadata": {},
   "outputs": [
    {
     "data": {
      "text/plain": [
       "0"
      ]
     },
     "execution_count": 2,
     "metadata": {},
     "output_type": "execute_result"
    }
   ],
   "source": [
    "#!/bin/python3\n",
    "\n",
    "import math\n",
    "import os\n",
    "import random\n",
    "import re\n",
    "import sys\n",
    "\n",
    "#\n",
    "# Complete the 'countingValleys' function below.\n",
    "#\n",
    "# The function is expected to return an INTEGER.\n",
    "# The function accepts following parameters:\n",
    "#  1. INTEGER steps\n",
    "#  2. STRING path\n",
    "#\n",
    "\n",
    "def countingValleys(steps, path):\n",
    "    # Write your code here\n",
    "    valleys = 0\n",
    "    level_counter = 0\n",
    "    for move in path:\n",
    "        previous_level = level_counter\n",
    "        if move == \"U\":\n",
    "            level_counter += 1\n",
    "            if level_counter == 0 and previous_level < 0:\n",
    "                valleys += 1\n",
    "        elif move == \"D\":\n",
    "            level_counter -= 1\n",
    "    return valleys\n",
    "\n",
    "\n",
    "if __name__ == '__main__':\n",
    "    fptr = open(os.environ['OUTPUT_PATH'], 'w')\n",
    "\n",
    "    steps = int(input().strip())\n",
    "\n",
    "    path = input()\n",
    "\n",
    "    result = countingValleys(steps, path)\n",
    "\n",
    "    fptr.write(str(result) + '\\n')\n",
    "\n",
    "    fptr.close()"
   ]
  },
  {
   "cell_type": "markdown",
   "id": "1da8435c",
   "metadata": {},
   "source": [
    "#### sales by match\n",
    "\n",
    "[see in HackerRank](https://www.hackerrank.com/challenges/sock-merchant/problem?h_l=interview&isFullScreen=true&playlist_slugs%5B%5D%5B%5D=interview-preparation-kit&playlist_slugs%5B%5D%5B%5D=warmup)"
   ]
  },
  {
   "cell_type": "code",
   "execution_count": null,
   "id": "cac64b8b",
   "metadata": {},
   "outputs": [],
   "source": [
    "#!/bin/python3\n",
    "\n",
    "import math\n",
    "import os\n",
    "import random\n",
    "import re\n",
    "import sys\n",
    "from collections import Counter\n",
    "\n",
    "#\n",
    "# Complete the 'sockMerchant' function below.\n",
    "#\n",
    "# The function is expected to return an INTEGER.\n",
    "# The function accepts following parameters:\n",
    "#  1. INTEGER n\n",
    "#  2. INTEGER_ARRAY ar\n",
    "#\n",
    "\n",
    "def sockMerchant(n, ar):\n",
    "    # Write your code here\n",
    "    socks_count = Counter(ar)\n",
    "    pairs_total_count = 0\n",
    "    for k,v in socks_count.items():\n",
    "        pairs_total_count += (v//2)\n",
    "    return pairs_total_count\n",
    "        \n",
    "    \n",
    "if __name__ == '__main__':\n",
    "    fptr = open(os.environ['OUTPUT_PATH'], 'w')\n",
    "\n",
    "    n = int(input().strip())\n",
    "\n",
    "    ar = list(map(int, input().rstrip().split()))\n",
    "\n",
    "    result = sockMerchant(n, ar)\n",
    "\n",
    "    fptr.write(str(result) + '\\n')\n",
    "\n",
    "    fptr.close()"
   ]
  },
  {
   "cell_type": "markdown",
   "id": "8dd129c3",
   "metadata": {},
   "source": [
    "#### repeated strings\n",
    "\n",
    "[see in HackerRank](https://www.hackerrank.com/challenges/repeated-string/problem?h_l=interview&isFullScreen=true&playlist_slugs%5B%5D%5B%5D=interview-preparation-kit&playlist_slugs%5B%5D%5B%5D=warmup)"
   ]
  },
  {
   "cell_type": "code",
   "execution_count": null,
   "id": "b2b59d16",
   "metadata": {},
   "outputs": [],
   "source": [
    "#!/bin/python3\n",
    "\n",
    "import math\n",
    "import os\n",
    "import random\n",
    "import re\n",
    "import sys\n",
    "\n",
    "# Complete the repeatedString function below.\n",
    "def repeatedString(s, n):\n",
    "    \n",
    "    multiplier = math.floor(n/len(s))\n",
    "    rest = n%len(s)\n",
    "    a_in_string = s.count('a')\n",
    "    a_in_rest = s[0:(rest)].count('a')\n",
    "    total_result = a_in_string * multiplier + a_in_rest\n",
    "    return total_result\n",
    "\n",
    "if __name__ == '__main__':\n",
    "    fptr = open(os.environ['OUTPUT_PATH'], 'w')\n",
    "\n",
    "    s = input()\n",
    "\n",
    "    n = int(input())\n",
    "\n",
    "    result = repeatedString(s, n)\n",
    "\n",
    "    fptr.write(str(result) + '\\n')\n",
    "\n",
    "    fptr.close()"
   ]
  }
 ],
 "metadata": {
  "kernelspec": {
   "display_name": "Python 3 (ipykernel)",
   "language": "python",
   "name": "python3"
  },
  "language_info": {
   "codemirror_mode": {
    "name": "ipython",
    "version": 3
   },
   "file_extension": ".py",
   "mimetype": "text/x-python",
   "name": "python",
   "nbconvert_exporter": "python",
   "pygments_lexer": "ipython3",
   "version": "3.10.1"
  }
 },
 "nbformat": 4,
 "nbformat_minor": 5
}
